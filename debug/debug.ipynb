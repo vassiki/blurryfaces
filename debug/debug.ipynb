{
 "cells": [
  {
   "cell_type": "code",
   "execution_count": null,
   "metadata": {},
   "outputs": [],
   "source": [
    "import os\n",
    "import pandas as pd"
   ]
  },
  {
   "cell_type": "code",
   "execution_count": null,
   "metadata": {},
   "outputs": [],
   "source": [
    "import os\n",
    "import pandas as pd\n",
    "import numpy as np"
   ]
  },
  {
   "cell_type": "code",
   "execution_count": null,
   "metadata": {},
   "outputs": [],
   "source": [
    "#CURDIR = '/Users/vassiki/Desktop/blur_pilot/'\n",
    "CURDIR = '/Users/vassiki/Downloads/blur_pilot/'\n",
    "CSVDIR = os.path.join(CURDIR,'csv') #going in csv folder\n",
    "PROBESTIMDIR = os.path.join(CURDIR,'probe_stimuli') #going in stimuli folder\n",
    "TESTSTIMDIR = os.path.join(CURDIR,'test_stimuli')"
   ]
  },
  {
   "cell_type": "code",
   "execution_count": null,
   "metadata": {},
   "outputs": [],
   "source": [
    "FN = os.path.join(CSVDIR,\"conditions.csv\")\n",
    "trials = pd.read_csv(FN)\n",
    "trials = trials.sample(frac=1).reset_index(drop=True)"
   ]
  },
  {
   "cell_type": "code",
   "execution_count": null,
   "metadata": {},
   "outputs": [],
   "source": [
    "stimuli_probe = {}\n",
    "stimuli_resp = {}\n",
    "resp_positions = [(-0.8,0.5),(-0.4,0.5),(0,0.5),(0.4,0.5),(0.8,0.5),(-0.8,-0.5),(-0.4,-0.5),(0,-0.5),(0.4,-0.5),(0.8,-0.5)]"
   ]
  },
  {
   "cell_type": "code",
   "execution_count": null,
   "metadata": {},
   "outputs": [],
   "source": [
    "for i in range(trials.shape[0]):\n",
    "    #probe = os.path.join(PROBESTIMDIR,trials.loc[i,'Probe_Img'])\n",
    "    probe = os.path.join(PROBESTIMDIR,trials.loc[i,'ImageProbe'])\n",
    "    stimuli_probe[i] = probe\n",
    "    print \"TRIAL NUMBER {0}\".format(i)\n",
    "    test_images = []\n",
    "    for j in range(10): # for 10 positions\n",
    "        image_col = 'Image{0}'.format(j)\n",
    "        print image_col\n",
    "        image_name = os.path.join(TESTSTIMDIR,trials.loc[i,image_col])\n",
    "        image = trials.loc[i,image_col] + str(resp_positions[j])\n",
    "        test_images.append(image)\n",
    "        \n",
    "    stimuli_resp[i] = test_images"
   ]
  },
  {
   "cell_type": "code",
   "execution_count": 15,
   "metadata": {},
   "outputs": [],
   "source": [
    "from collections import OrderedDict"
   ]
  },
  {
   "cell_type": "code",
   "execution_count": 31,
   "metadata": {},
   "outputs": [],
   "source": [
    "test = {}\n",
    "for image in os.listdir(TESTSTIMDIR):\n",
    "    if 'uf' in image:\n",
    "        test[image] = ''\n",
    "test_o = OrderedDict(sorted(test.items(),key=lambda t: t[0]))"
   ]
  },
  {
   "cell_type": "code",
   "execution_count": 35,
   "metadata": {},
   "outputs": [
    {
     "name": "stdout",
     "output_type": "stream",
     "text": [
      "uf4_0.jpg\n",
      "uf9_0.jpg\n",
      "uf6_0.jpg\n",
      "uf1_0.jpg\n",
      "uf2_0.jpg\n",
      "uf5_0.jpg\n",
      "uf10_0.jpg\n",
      "uf7_0.jpg\n",
      "uf8_0.jpg\n",
      "uf3_0.jpg\n"
     ]
    }
   ],
   "source": [
    "for i in test:\n",
    "    print i"
   ]
  },
  {
   "cell_type": "code",
   "execution_count": 38,
   "metadata": {},
   "outputs": [
    {
     "data": {
      "text/plain": [
       "True"
      ]
     },
     "execution_count": 38,
     "metadata": {},
     "output_type": "execute_result"
    }
   ],
   "source": [
    "isinstance(test.keys()[0],str)"
   ]
  },
  {
   "cell_type": "code",
   "execution_count": 37,
   "metadata": {},
   "outputs": [
    {
     "data": {
      "text/plain": [
       "'uf4_0.jpg'"
      ]
     },
     "execution_count": 37,
     "metadata": {},
     "output_type": "execute_result"
    }
   ],
   "source": [
    "test.keys()[0]"
   ]
  },
  {
   "cell_type": "code",
   "execution_count": null,
   "metadata": {},
   "outputs": [],
   "source": [
    "type(trials.loc[0,'Mouse'])\n",
    "x = trials.loc[0,'Mouse']"
   ]
  },
  {
   "cell_type": "code",
   "execution_count": null,
   "metadata": {},
   "outputs": [],
   "source": [
    "stimuli_resp[0][0]"
   ]
  },
  {
   "cell_type": "code",
   "execution_count": null,
   "metadata": {},
   "outputs": [],
   "source": [
    "y = list(x)"
   ]
  },
  {
   "cell_type": "code",
   "execution_count": null,
   "metadata": {},
   "outputs": [],
   "source": [
    "import re\n",
    "y = re.findall(\"\\d+\\.\\d+\", x)\n",
    "float(y[0])"
   ]
  },
  {
   "cell_type": "code",
   "execution_count": null,
   "metadata": {},
   "outputs": [],
   "source": [
    "mousepos = trials.MouseX"
   ]
  },
  {
   "cell_type": "code",
   "execution_count": null,
   "metadata": {},
   "outputs": [],
   "source": [
    "re.findall(\"\\d+\\.\\d+\", mousepos[1])"
   ]
  },
  {
   "cell_type": "code",
   "execution_count": null,
   "metadata": {},
   "outputs": [],
   "source": [
    "x = list(mousepos[1])"
   ]
  },
  {
   "cell_type": "code",
   "execution_count": null,
   "metadata": {},
   "outputs": [],
   "source": [
    "trials.loc[0,'MouseY']"
   ]
  },
  {
   "cell_type": "code",
   "execution_count": null,
   "metadata": {},
   "outputs": [],
   "source": [
    "round(trials.loc[0,'MouseY'],1)"
   ]
  },
  {
   "cell_type": "code",
   "execution_count": null,
   "metadata": {},
   "outputs": [],
   "source": []
  }
 ],
 "metadata": {
  "kernelspec": {
   "display_name": "Python 2",
   "language": "python",
   "name": "python2"
  },
  "language_info": {
   "codemirror_mode": {
    "name": "ipython",
    "version": 2
   },
   "file_extension": ".py",
   "mimetype": "text/x-python",
   "name": "python",
   "nbconvert_exporter": "python",
   "pygments_lexer": "ipython2",
   "version": "2.7.13"
  }
 },
 "nbformat": 4,
 "nbformat_minor": 2
}
